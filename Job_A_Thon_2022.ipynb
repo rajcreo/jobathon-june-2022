{
  "nbformat": 4,
  "nbformat_minor": 0,
  "metadata": {
    "colab": {
      "name": "Job_A_Thon_2022.ipynb",
      "provenance": [],
      "authorship_tag": "ABX9TyMSZGacMYAS+GBUUcXOmG09",
      "include_colab_link": true
    },
    "kernelspec": {
      "name": "python3",
      "display_name": "Python 3"
    },
    "language_info": {
      "name": "python"
    }
  },
  "cells": [
    {
      "cell_type": "markdown",
      "metadata": {
        "id": "view-in-github",
        "colab_type": "text"
      },
      "source": [
        "<a href=\"https://colab.research.google.com/github/rajcreo/jobathon-march-2022/blob/main/Job_A_Thon_2022.ipynb\" target=\"_parent\"><img src=\"https://colab.research.google.com/assets/colab-badge.svg\" alt=\"Open In Colab\"/></a>"
      ]
    },
    {
      "cell_type": "code",
      "execution_count": null,
      "metadata": {
        "id": "Q1WVd8KGpbUT"
      },
      "outputs": [],
      "source": [
        ""
      ]
    },
    {
      "cell_type": "markdown",
      "source": [
        "# Step 1: Importing relevant libraries"
      ],
      "metadata": {
        "id": "H_zL6zeCpkwj"
      }
    },
    {
      "cell_type": "code",
      "source": [
        "import pandas as pd\n",
        "import numpy as np\n",
        "import matplotlib.pyplot as plt \n",
        "import seaborn as sns\n",
        "from collections import Counter\n",
        "\n",
        "from sklearn.preprocessing import MinMaxScaler\n",
        "from sklearn.preprocessing import StandardScaler\n",
        "from sklearn.preprocessing import OneHotEncoder\n",
        "\n",
        "from sklearn.model_selection import train_test_split\n",
        "from sklearn.tree import DecisionTreeClassifier\n",
        "\n",
        "from xgboost import XGBClassifier\n",
        "\n",
        "from sklearn.model_selection import cross_val_score\n",
        "from sklearn.model_selection import RepeatedStratifiedKFold\n",
        "\n",
        "from scipy import stats"
      ],
      "metadata": {
        "id": "MGsN-ww7pp07"
      },
      "execution_count": null,
      "outputs": []
    },
    {
      "cell_type": "code",
      "source": [
        ""
      ],
      "metadata": {
        "id": "Krv8EIBppwnJ"
      },
      "execution_count": null,
      "outputs": []
    },
    {
      "cell_type": "markdown",
      "source": [
        "# Step 2: Importing Dataset"
      ],
      "metadata": {
        "id": "yFdMnorep54K"
      }
    },
    {
      "cell_type": "code",
      "execution_count": null,
      "metadata": {
        "colab": {
          "base_uri": "https://localhost:8080/"
        },
        "id": "KEDkdn9ng8I1",
        "outputId": "691d9d4e-2742-4eaf-8c4e-b9c466cd35cc"
      },
      "outputs": [
        {
          "output_type": "stream",
          "name": "stdout",
          "text": [
            "Mounted at /content/drive\n"
          ]
        }
      ],
      "source": [
        "# mounting the google drive for importing required dataset\n",
        "from google.colab import drive\n",
        "drive.mount('/content/drive',)"
      ]
    },
    {
      "cell_type": "code",
      "execution_count": null,
      "metadata": {
        "id": "2445a727"
      },
      "outputs": [],
      "source": [
        "# train and test path setup\n",
        "train_path = \"/content/drive/MyDrive/Job-A-Thon_2022/Dataset/train.csv\"\n",
        "test_path = \"/content/drive/MyDrive/Job-A-Thon_2022/Dataset/test.csv\""
      ]
    },
    {
      "cell_type": "code",
      "execution_count": null,
      "metadata": {
        "id": "UBTs4OoQg-Q_"
      },
      "outputs": [],
      "source": [
        "# importing train and test set\n",
        "train_df = pd.read_csv(train_path)\n",
        "test_df = pd.read_csv(test_path)"
      ]
    },
    {
      "cell_type": "code",
      "execution_count": null,
      "metadata": {
        "colab": {
          "base_uri": "https://localhost:8080/"
        },
        "id": "ovjUTce3irPq",
        "outputId": "b1fd919b-8a35-46e5-8e58-227b9e53894f"
      },
      "outputs": [
        {
          "output_type": "stream",
          "name": "stdout",
          "text": [
            "train: (39161, 19)\n",
            "test: (13184, 18)\n"
          ]
        }
      ],
      "source": [
        "# number of records in train and test set\n",
        "print(f\"train: {train_df.shape}\")\n",
        "print(f\"test: {test_df.shape}\")"
      ]
    },
    {
      "cell_type": "markdown",
      "source": [
        "# Step 3: Preprocessing"
      ],
      "metadata": {
        "id": "9UQUpSm7qlEq"
      }
    },
    {
      "cell_type": "code",
      "source": [
        "# dropping id, created_at, signup_date and buy from train set and test set\n",
        "train = train_df.drop(['id', 'created_at', 'signup_date'], axis=1)\n",
        "test = test_df. drop(['id', 'created_at', 'signup_date'], axis=1)"
      ],
      "metadata": {
        "id": "PO96EkLSqm9k"
      },
      "execution_count": null,
      "outputs": []
    },
    {
      "cell_type": "code",
      "source": [
        "# replacing nan with zero\n",
        "train['products_purchased'] = train['products_purchased'].fillna(0)\n",
        "test['products_purchased'] = test['products_purchased'].fillna(0)"
      ],
      "metadata": {
        "id": "IiES1j1IG0Wy"
      },
      "execution_count": null,
      "outputs": []
    },
    {
      "cell_type": "code",
      "source": [
        "X = train.drop(['buy'], axis=1)\n",
        "y = train['buy']"
      ],
      "metadata": {
        "id": "DnM4BIjBgpAm"
      },
      "execution_count": null,
      "outputs": []
    },
    {
      "cell_type": "code",
      "source": [
        "train.isnull().sum()"
      ],
      "metadata": {
        "colab": {
          "base_uri": "https://localhost:8080/"
        },
        "id": "sW1sRPI-HSMF",
        "outputId": "ffc141fa-9d6b-493f-fd2e-6f027ffa2c26"
      },
      "execution_count": null,
      "outputs": [
        {
          "output_type": "execute_result",
          "data": {
            "text/plain": [
              "campaign_var_1          0\n",
              "campaign_var_2          0\n",
              "products_purchased      0\n",
              "user_activity_var_1     0\n",
              "user_activity_var_2     0\n",
              "user_activity_var_3     0\n",
              "user_activity_var_4     0\n",
              "user_activity_var_5     0\n",
              "user_activity_var_6     0\n",
              "user_activity_var_7     0\n",
              "user_activity_var_8     0\n",
              "user_activity_var_9     0\n",
              "user_activity_var_10    0\n",
              "user_activity_var_11    0\n",
              "user_activity_var_12    0\n",
              "buy                     0\n",
              "dtype: int64"
            ]
          },
          "metadata": {},
          "execution_count": 9
        }
      ]
    },
    {
      "cell_type": "code",
      "source": [
        "test.isnull().sum()"
      ],
      "metadata": {
        "colab": {
          "base_uri": "https://localhost:8080/"
        },
        "id": "HHmU4fqzHXLb",
        "outputId": "12947706-d39e-4392-d1a4-6ecb6235bed1"
      },
      "execution_count": null,
      "outputs": [
        {
          "output_type": "execute_result",
          "data": {
            "text/plain": [
              "campaign_var_1          0\n",
              "campaign_var_2          0\n",
              "products_purchased      0\n",
              "user_activity_var_1     0\n",
              "user_activity_var_2     0\n",
              "user_activity_var_3     0\n",
              "user_activity_var_4     0\n",
              "user_activity_var_5     0\n",
              "user_activity_var_6     0\n",
              "user_activity_var_7     0\n",
              "user_activity_var_8     0\n",
              "user_activity_var_9     0\n",
              "user_activity_var_10    0\n",
              "user_activity_var_11    0\n",
              "user_activity_var_12    0\n",
              "dtype: int64"
            ]
          },
          "metadata": {},
          "execution_count": 10
        }
      ]
    },
    {
      "cell_type": "code",
      "source": [
        "train.columns"
      ],
      "metadata": {
        "colab": {
          "base_uri": "https://localhost:8080/"
        },
        "id": "r3MYts7lHZ_c",
        "outputId": "3364911b-c4dc-4f67-941d-8b9c93332e62"
      },
      "execution_count": null,
      "outputs": [
        {
          "output_type": "execute_result",
          "data": {
            "text/plain": [
              "Index(['campaign_var_1', 'campaign_var_2', 'products_purchased',\n",
              "       'user_activity_var_1', 'user_activity_var_2', 'user_activity_var_3',\n",
              "       'user_activity_var_4', 'user_activity_var_5', 'user_activity_var_6',\n",
              "       'user_activity_var_7', 'user_activity_var_8', 'user_activity_var_9',\n",
              "       'user_activity_var_10', 'user_activity_var_11', 'user_activity_var_12',\n",
              "       'buy'],\n",
              "      dtype='object')"
            ]
          },
          "metadata": {},
          "execution_count": 16
        }
      ]
    },
    {
      "cell_type": "markdown",
      "source": [
        "# Step 4: Exploratory Data Analysis (EDA)"
      ],
      "metadata": {
        "id": "uquG6mJUHfQx"
      }
    },
    {
      "cell_type": "code",
      "source": [
        "# function to count number of each label in a column\n",
        "def count_labels(df, column):\n",
        "  unique_arr = df[column].unique()\n",
        "  for item in unique_arr:\n",
        "    print(f\"No. of {item}: {df[column].value_counts()[item]}\")"
      ],
      "metadata": {
        "id": "HZwtE2bAHksi"
      },
      "execution_count": null,
      "outputs": []
    },
    {
      "cell_type": "code",
      "source": [
        "# function countplot to show the frequency of column\n",
        "def count_plot(df, column):\n",
        "  plt.figure(figsize=(8,5))\n",
        "  sns.countplot(column, data=df,palette='summer')"
      ],
      "metadata": {
        "id": "bwG4EBpzH_LO"
      },
      "execution_count": null,
      "outputs": []
    },
    {
      "cell_type": "code",
      "source": [
        "# function for printing the unique frequency in each column of dataset\n",
        "def print_unique(df):\n",
        "  columns = df.columns\n",
        "  for column in columns:\n",
        "    print(f\"==================== {column} ===================\")\n",
        "    count_labels(df, column)\n",
        "    print()"
      ],
      "metadata": {
        "id": "bbjDwnd8WqsU"
      },
      "execution_count": null,
      "outputs": []
    },
    {
      "cell_type": "code",
      "source": [
        "# function for ploting the unique frequency in each column of dataset\n",
        "def plot_unique(df):\n",
        "  columns = df.columns\n",
        "  for column in columns:\n",
        "    count_plot(df, column)"
      ],
      "metadata": {
        "id": "iTDsKxSiUTvA"
      },
      "execution_count": null,
      "outputs": []
    },
    {
      "cell_type": "code",
      "source": [
        "plot_unique(train)"
      ],
      "metadata": {
        "colab": {
          "base_uri": "https://localhost:8080/",
          "height": 1000
        },
        "id": "_-Vt_3APUboI",
        "outputId": "481c1d13-9038-4552-8e1d-2089e80cacfd"
      },
      "execution_count": null,
      "outputs": [
        {
          "output_type": "stream",
          "name": "stderr",
          "text": [
            "/usr/local/lib/python3.7/dist-packages/seaborn/_decorators.py:43: FutureWarning: Pass the following variable as a keyword arg: x. From version 0.12, the only valid positional argument will be `data`, and passing other arguments without an explicit keyword will result in an error or misinterpretation.\n",
            "  FutureWarning\n",
            "/usr/local/lib/python3.7/dist-packages/seaborn/_decorators.py:43: FutureWarning: Pass the following variable as a keyword arg: x. From version 0.12, the only valid positional argument will be `data`, and passing other arguments without an explicit keyword will result in an error or misinterpretation.\n",
            "  FutureWarning\n",
            "/usr/local/lib/python3.7/dist-packages/seaborn/_decorators.py:43: FutureWarning: Pass the following variable as a keyword arg: x. From version 0.12, the only valid positional argument will be `data`, and passing other arguments without an explicit keyword will result in an error or misinterpretation.\n",
            "  FutureWarning\n",
            "/usr/local/lib/python3.7/dist-packages/seaborn/_decorators.py:43: FutureWarning: Pass the following variable as a keyword arg: x. From version 0.12, the only valid positional argument will be `data`, and passing other arguments without an explicit keyword will result in an error or misinterpretation.\n",
            "  FutureWarning\n",
            "/usr/local/lib/python3.7/dist-packages/seaborn/_decorators.py:43: FutureWarning: Pass the following variable as a keyword arg: x. From version 0.12, the only valid positional argument will be `data`, and passing other arguments without an explicit keyword will result in an error or misinterpretation.\n",
            "  FutureWarning\n",
            "/usr/local/lib/python3.7/dist-packages/seaborn/_decorators.py:43: FutureWarning: Pass the following variable as a keyword arg: x. From version 0.12, the only valid positional argument will be `data`, and passing other arguments without an explicit keyword will result in an error or misinterpretation.\n",
            "  FutureWarning\n",
            "/usr/local/lib/python3.7/dist-packages/seaborn/_decorators.py:43: FutureWarning: Pass the following variable as a keyword arg: x. From version 0.12, the only valid positional argument will be `data`, and passing other arguments without an explicit keyword will result in an error or misinterpretation.\n",
            "  FutureWarning\n",
            "/usr/local/lib/python3.7/dist-packages/seaborn/_decorators.py:43: FutureWarning: Pass the following variable as a keyword arg: x. From version 0.12, the only valid positional argument will be `data`, and passing other arguments without an explicit keyword will result in an error or misinterpretation.\n",
            "  FutureWarning\n",
            "/usr/local/lib/python3.7/dist-packages/seaborn/_decorators.py:43: FutureWarning: Pass the following variable as a keyword arg: x. From version 0.12, the only valid positional argument will be `data`, and passing other arguments without an explicit keyword will result in an error or misinterpretation.\n",
            "  FutureWarning\n",
            "/usr/local/lib/python3.7/dist-packages/seaborn/_decorators.py:43: FutureWarning: Pass the following variable as a keyword arg: x. From version 0.12, the only valid positional argument will be `data`, and passing other arguments without an explicit keyword will result in an error or misinterpretation.\n",
            "  FutureWarning\n",
            "/usr/local/lib/python3.7/dist-packages/seaborn/_decorators.py:43: FutureWarning: Pass the following variable as a keyword arg: x. From version 0.12, the only valid positional argument will be `data`, and passing other arguments without an explicit keyword will result in an error or misinterpretation.\n",
            "  FutureWarning\n",
            "/usr/local/lib/python3.7/dist-packages/seaborn/_decorators.py:43: FutureWarning: Pass the following variable as a keyword arg: x. From version 0.12, the only valid positional argument will be `data`, and passing other arguments without an explicit keyword will result in an error or misinterpretation.\n",
            "  FutureWarning\n",
            "/usr/local/lib/python3.7/dist-packages/seaborn/_decorators.py:43: FutureWarning: Pass the following variable as a keyword arg: x. From version 0.12, the only valid positional argument will be `data`, and passing other arguments without an explicit keyword will result in an error or misinterpretation.\n",
            "  FutureWarning\n",
            "/usr/local/lib/python3.7/dist-packages/seaborn/_decorators.py:43: FutureWarning: Pass the following variable as a keyword arg: x. From version 0.12, the only valid positional argument will be `data`, and passing other arguments without an explicit keyword will result in an error or misinterpretation.\n",
            "  FutureWarning\n",
            "/usr/local/lib/python3.7/dist-packages/seaborn/_decorators.py:43: FutureWarning: Pass the following variable as a keyword arg: x. From version 0.12, the only valid positional argument will be `data`, and passing other arguments without an explicit keyword will result in an error or misinterpretation.\n",
            "  FutureWarning\n",
            "/usr/local/lib/python3.7/dist-packages/seaborn/_decorators.py:43: FutureWarning: Pass the following variable as a keyword arg: x. From version 0.12, the only valid positional argument will be `data`, and passing other arguments without an explicit keyword will result in an error or misinterpretation.\n",
            "  FutureWarning\n"
          ]
        },
        {
          "output_type": "display_data",
          "data": {
            "text/plain": [
              "<Figure size 576x360 with 1 Axes>"
            ],
            "image/png": "[encoded data removed]"
          },
          "metadata": {
            "needs_background": "light"
          }
        },
        {
          "output_type": "display_data",
          "data": {
            "text/plain": [
              "<Figure size 576x360 with 1 Axes>"
            ],
            "image/png": "[encoded data removed]"
          },
          "metadata": {
            "needs_background": "light"
          }
        },
        {
          "output_type": "display_data",
          "data": {
            "text/plain": [
              "<Figure size 576x360 with 1 Axes>"
            ],
            "image/png": "[encoded data removed]"
          },
          "metadata": {
            "needs_background": "light"
          }
        },
        {
          "output_type": "display_data",
          "data": {
            "text/plain": [
              "<Figure size 576x360 with 1 Axes>"
            ],
            "image/png": "[encoded data removed]"
          },
          "metadata": {
            "needs_background": "light"
          }
        },
        {
          "output_type": "display_data",
          "data": {
            "text/plain": [
              "<Figure size 576x360 with 1 Axes>"
            ],
            "image/png": "[encoded data removed]"
          },
          "metadata": {
            "needs_background": "light"
          }
        },
        {
          "output_type": "display_data",
          "data": {
            "text/plain": [
              "<Figure size 576x360 with 1 Axes>"
            ],
            "image/png": "[encoded data removed]"
          },
          "metadata": {
            "needs_background": "light"
          }
        },
        {
          "output_type": "display_data",
          "data": {
            "text/plain": [
              "<Figure size 576x360 with 1 Axes>"
            ],
            "image/png": "[encoded data removed]"
          },
          "metadata": {
            "needs_background": "light"
          }
        },
        {
          "output_type": "display_data",
          "data": {
            "text/plain": [
              "<Figure size 576x360 with 1 Axes>"
            ],
            "image/png": "[encoded data removed]"
          },
          "metadata": {
            "needs_background": "light"
          }
        },
        {
          "output_type": "display_data",
          "data": {
            "text/plain": [
              "<Figure size 576x360 with 1 Axes>"
            ],
            "image/png": "[encoded data removed]"
          },
          "metadata": {
            "needs_background": "light"
          }
        },
        {
          "output_type": "display_data",
          "data": {
            "text/plain": [
              "<Figure size 576x360 with 1 Axes>"
            ],
            "image/png": "[encoded data removed]"
          },
          "metadata": {
            "needs_background": "light"
          }
        },
        {
          "output_type": "display_data",
          "data": {
            "text/plain": [
              "<Figure size 576x360 with 1 Axes>"
            ],
            "image/png": "[encoded data removed]"
          },
          "metadata": {
            "needs_background": "light"
          }
        },
        {
          "output_type": "display_data",
          "data": {
            "text/plain": [
              "<Figure size 576x360 with 1 Axes>"
            ],
            "image/png": "[encoded data removed]"
          },
          "metadata": {
            "needs_background": "light"
          }
        },
        {
          "output_type": "display_data",
          "data": {
            "text/plain": [
              "<Figure size 576x360 with 1 Axes>"
            ],
            "image/png": "[encoded data removed]"
          },
          "metadata": {
            "needs_background": "light"
          }
        },
        {
          "output_type": "display_data",
          "data": {
            "text/plain": [
              "<Figure size 576x360 with 1 Axes>"
            ],
            "image/png": "[encoded data removed]"
          },
          "metadata": {
            "needs_background": "light"
          }
        },
        {
          "output_type": "display_data",
          "data": {
            "text/plain": [
              "<Figure size 576x360 with 1 Axes>"
            ],
            "image/png": "[encoded data removed]"
          },
          "metadata": {
            "needs_background": "light"
          }
        },
        {
          "output_type": "display_data",
          "data": {
            "text/plain": [
              "<Figure size 576x360 with 1 Axes>"
            ],
            "image/png": "[encoded data removed]"
          },
          "metadata": {
            "needs_background": "light"
          }
        }
      ]
    },
    {
      "cell_type": "code",
      "source": [
        "print_unique(train)"
      ],
      "metadata": {
        "colab": {
          "base_uri": "https://localhost:8080/"
        },
        "id": "ZgLUfVS7VuUc",
        "outputId": "f914da0b-0c92-4332-a9a8-3fe68c8257f2"
      },
      "execution_count": null,
      "outputs": [
        {
          "output_type": "stream",
          "name": "stdout",
          "text": [
            "==================== campaign_var_1 ===================\n",
            "No. of 1: 1593\n",
            "No. of 2: 3486\n",
            "No. of 9: 2866\n",
            "No. of 6: 4061\n",
            "No. of 4: 4018\n",
            "No. of 3: 3784\n",
            "No. of 5: 4060\n",
            "No. of 7: 3756\n",
            "No. of 13: 1059\n",
            "No. of 8: 3407\n",
            "No. of 12: 1455\n",
            "No. of 10: 2392\n",
            "No. of 14: 714\n",
            "No. of 11: 1873\n",
            "No. of 16: 181\n",
            "No. of 15: 456\n",
            "\n",
            "==================== campaign_var_2 ===================\n",
            "No. of 2: 1788\n",
            "No. of 1: 589\n",
            "No. of 3: 2883\n",
            "No. of 7: 5472\n",
            "No. of 6: 5744\n",
            "No. of 4: 4213\n",
            "No. of 10: 2298\n",
            "No. of 5: 5250\n",
            "No. of 8: 4690\n",
            "No. of 9: 3537\n",
            "No. of 12: 761\n",
            "No. of 11: 1410\n",
            "No. of 13: 351\n",
            "No. of 14: 151\n",
            "No. of 15: 24\n",
            "\n",
            "==================== products_purchased ===================\n",
            "No. of 2.0: 8867\n",
            "No. of 3.0: 5024\n",
            "No. of 0.0: 20911\n",
            "No. of 1.0: 3643\n",
            "No. of 4.0: 716\n",
            "\n",
            "==================== user_activity_var_1 ===================\n",
            "No. of 0: 23869\n",
            "No. of 1: 14917\n",
            "No. of 2: 374\n",
            "No. of 3: 1\n",
            "\n",
            "==================== user_activity_var_2 ===================\n",
            "No. of 0: 38898\n",
            "No. of 1: 263\n",
            "\n",
            "==================== user_activity_var_3 ===================\n",
            "No. of 0: 35134\n",
            "No. of 1: 4027\n",
            "\n",
            "==================== user_activity_var_4 ===================\n",
            "No. of 0: 38712\n",
            "No. of 1: 449\n",
            "\n",
            "==================== user_activity_var_5 ===================\n",
            "No. of 0: 33244\n",
            "No. of 1: 5901\n",
            "No. of 2: 16\n",
            "\n",
            "==================== user_activity_var_6 ===================\n",
            "No. of 0: 20777\n",
            "No. of 1: 17209\n",
            "No. of 2: 1160\n",
            "No. of 3: 15\n",
            "\n",
            "==================== user_activity_var_7 ===================\n",
            "No. of 1: 11096\n",
            "No. of 0: 28001\n",
            "No. of 2: 64\n",
            "\n",
            "==================== user_activity_var_8 ===================\n",
            "No. of 1: 6825\n",
            "No. of 0: 32333\n",
            "No. of 2: 3\n",
            "\n",
            "==================== user_activity_var_9 ===================\n",
            "No. of 0: 38713\n",
            "No. of 1: 448\n",
            "\n",
            "==================== user_activity_var_10 ===================\n",
            "No. of 0: 39146\n",
            "No. of 1: 15\n",
            "\n",
            "==================== user_activity_var_11 ===================\n",
            "No. of 0: 30859\n",
            "No. of 1: 8055\n",
            "No. of 2: 223\n",
            "No. of 3: 23\n",
            "No. of 4: 1\n",
            "\n",
            "==================== user_activity_var_12 ===================\n",
            "No. of 0: 39139\n",
            "No. of 1: 22\n",
            "\n",
            "==================== buy ===================\n",
            "No. of 0: 37163\n",
            "No. of 1: 1998\n",
            "\n"
          ]
        }
      ]
    },
    {
      "cell_type": "code",
      "source": [
        "print_unique(test)"
      ],
      "metadata": {
        "colab": {
          "base_uri": "https://localhost:8080/"
        },
        "id": "7z02UXnzXvU-",
        "outputId": "80d1e2f0-bb0b-49df-e143-a4fcc79c977f"
      },
      "execution_count": null,
      "outputs": [
        {
          "output_type": "stream",
          "name": "stdout",
          "text": [
            "==================== campaign_var_1 ===================\n",
            "No. of 2: 665\n",
            "No. of 4: 1068\n",
            "No. of 8: 1307\n",
            "No. of 9: 1160\n",
            "No. of 13: 568\n",
            "No. of 1: 227\n",
            "No. of 6: 1259\n",
            "No. of 3: 860\n",
            "No. of 14: 440\n",
            "No. of 5: 1179\n",
            "No. of 10: 1027\n",
            "No. of 7: 1304\n",
            "No. of 15: 340\n",
            "No. of 11: 921\n",
            "No. of 12: 708\n",
            "No. of 16: 151\n",
            "\n",
            "==================== campaign_var_2 ===================\n",
            "No. of 2: 185\n",
            "No. of 7: 1775\n",
            "No. of 8: 1923\n",
            "No. of 5: 1110\n",
            "No. of 4: 783\n",
            "No. of 12: 698\n",
            "No. of 6: 1477\n",
            "No. of 3: 410\n",
            "No. of 11: 1013\n",
            "No. of 10: 1481\n",
            "No. of 9: 1682\n",
            "No. of 13: 379\n",
            "No. of 1: 33\n",
            "No. of 14: 179\n",
            "No. of 15: 56\n",
            "\n",
            "==================== products_purchased ===================\n",
            "No. of 0.0: 8136\n",
            "No. of 3.0: 1260\n",
            "No. of 2.0: 2484\n",
            "No. of 1.0: 1106\n",
            "No. of 4.0: 198\n",
            "\n",
            "==================== user_activity_var_1 ===================\n",
            "No. of 1: 4857\n",
            "No. of 0: 8207\n",
            "No. of 2: 119\n",
            "No. of 3: 1\n",
            "\n",
            "==================== user_activity_var_2 ===================\n",
            "No. of 1: 56\n",
            "No. of 0: 13128\n",
            "\n",
            "==================== user_activity_var_3 ===================\n",
            "No. of 0: 11822\n",
            "No. of 1: 1362\n",
            "\n",
            "==================== user_activity_var_4 ===================\n",
            "No. of 0: 13090\n",
            "No. of 1: 94\n",
            "\n",
            "==================== user_activity_var_5 ===================\n",
            "No. of 0: 11169\n",
            "No. of 1: 2012\n",
            "No. of 2: 3\n",
            "\n",
            "==================== user_activity_var_6 ===================\n",
            "No. of 1: 6019\n",
            "No. of 0: 6713\n",
            "No. of 2: 447\n",
            "No. of 3: 5\n",
            "\n",
            "==================== user_activity_var_7 ===================\n",
            "No. of 0: 9187\n",
            "No. of 1: 3980\n",
            "No. of 2: 17\n",
            "\n",
            "==================== user_activity_var_8 ===================\n",
            "No. of 0: 11304\n",
            "No. of 1: 1879\n",
            "No. of 2: 1\n",
            "\n",
            "==================== user_activity_var_9 ===================\n",
            "No. of 0: 13074\n",
            "No. of 1: 109\n",
            "No. of 2: 1\n",
            "\n",
            "==================== user_activity_var_10 ===================\n",
            "No. of 0: 13181\n",
            "No. of 1: 3\n",
            "\n",
            "==================== user_activity_var_11 ===================\n",
            "No. of 1: 3049\n",
            "No. of 0: 9995\n",
            "No. of 2: 128\n",
            "No. of 3: 12\n",
            "\n",
            "==================== user_activity_var_12 ===================\n",
            "No. of 0: 13181\n",
            "No. of 1: 3\n",
            "\n"
          ]
        }
      ]
    },
    {
      "cell_type": "code",
      "source": [
        ""
      ],
      "metadata": {
        "id": "VR1JAkXN4j-D"
      },
      "execution_count": null,
      "outputs": []
    },
    {
      "cell_type": "code",
      "source": [
        ""
      ],
      "metadata": {
        "id": "lYe1dVOE4jzk"
      },
      "execution_count": null,
      "outputs": []
    },
    {
      "cell_type": "code",
      "source": [
        ""
      ],
      "metadata": {
        "id": "X9bV6PAK4juI"
      },
      "execution_count": null,
      "outputs": []
    },
    {
      "cell_type": "code",
      "source": [
        ""
      ],
      "metadata": {
        "id": "cb2ukg5Y4je8"
      },
      "execution_count": null,
      "outputs": []
    },
    {
      "cell_type": "code",
      "source": [
        ""
      ],
      "metadata": {
        "id": "KpL1MBmF4jbY"
      },
      "execution_count": null,
      "outputs": []
    },
    {
      "cell_type": "code",
      "source": [
        ""
      ],
      "metadata": {
        "id": "FixBKVaL4i-m"
      },
      "execution_count": null,
      "outputs": []
    },
    {
      "cell_type": "markdown",
      "source": [
        "# Normalization"
      ],
      "metadata": {
        "id": "QCCceiF_yjYJ"
      }
    },
    {
      "cell_type": "code",
      "source": [
        "X_col = X.columns\n",
        "X_col"
      ],
      "metadata": {
        "colab": {
          "base_uri": "https://localhost:8080/"
        },
        "id": "3LVTUyqY1mVN",
        "outputId": "0eb6df39-e19c-444d-be76-c669f5483f26"
      },
      "execution_count": null,
      "outputs": [
        {
          "output_type": "execute_result",
          "data": {
            "text/plain": [
              "Index(['campaign_var_1', 'campaign_var_2', 'products_purchased',\n",
              "       'user_activity_var_1', 'user_activity_var_2', 'user_activity_var_3',\n",
              "       'user_activity_var_4', 'user_activity_var_5', 'user_activity_var_6',\n",
              "       'user_activity_var_7', 'user_activity_var_8', 'user_activity_var_9',\n",
              "       'user_activity_var_10', 'user_activity_var_11', 'user_activity_var_12'],\n",
              "      dtype='object')"
            ]
          },
          "metadata": {},
          "execution_count": 88
        }
      ]
    },
    {
      "cell_type": "code",
      "source": [
        "scaler = MinMaxScaler()"
      ],
      "metadata": {
        "id": "d3knYYxoynLN"
      },
      "execution_count": null,
      "outputs": []
    },
    {
      "cell_type": "code",
      "source": [
        "X_np = scaler.fit_transform(X)"
      ],
      "metadata": {
        "id": "a39Kbm9o17S1"
      },
      "execution_count": null,
      "outputs": []
    },
    {
      "cell_type": "code",
      "source": [
        "X_scaled = pd.DataFrame(X_np, columns=X_col)"
      ],
      "metadata": {
        "id": "VW47YyU-164d"
      },
      "execution_count": null,
      "outputs": []
    },
    {
      "cell_type": "code",
      "source": [
        "X_scaled.head()"
      ],
      "metadata": {
        "colab": {
          "base_uri": "https://localhost:8080/",
          "height": 270
        },
        "id": "LFlOuW3E16js",
        "outputId": "4511030b-30d5-4b86-db03-9f2b4c340b9b"
      },
      "execution_count": null,
      "outputs": [
        {
          "output_type": "execute_result",
          "data": {
            "text/plain": [
              "   campaign_var_1  campaign_var_2  products_purchased  user_activity_var_1  \\\n",
              "0        0.000000        0.071429                0.50             0.000000   \n",
              "1        0.066667        0.000000                0.50             0.333333   \n",
              "2        0.533333        0.142857                0.75             0.333333   \n",
              "3        0.333333        0.428571                0.50             0.000000   \n",
              "4        0.200000        0.357143                0.00             0.000000   \n",
              "\n",
              "   user_activity_var_2  user_activity_var_3  user_activity_var_4  \\\n",
              "0                  0.0                  0.0                  0.0   \n",
              "1                  0.0                  1.0                  0.0   \n",
              "2                  0.0                  0.0                  0.0   \n",
              "3                  0.0                  0.0                  0.0   \n",
              "4                  0.0                  0.0                  0.0   \n",
              "\n",
              "   user_activity_var_5  user_activity_var_6  user_activity_var_7  \\\n",
              "0                  0.0                  0.0                  0.5   \n",
              "1                  0.0                  0.0                  0.5   \n",
              "2                  0.0                  0.0                  0.0   \n",
              "3                  0.0                  0.0                  0.0   \n",
              "4                  0.0                  0.0                  0.5   \n",
              "\n",
              "   user_activity_var_8  user_activity_var_9  user_activity_var_10  \\\n",
              "0                  0.5                  0.0                   0.0   \n",
              "1                  0.0                  0.0                   0.0   \n",
              "2                  0.0                  0.0                   0.0   \n",
              "3                  0.0                  0.0                   0.0   \n",
              "4                  0.0                  0.0                   0.0   \n",
              "\n",
              "   user_activity_var_11  user_activity_var_12  \n",
              "0                  0.00                   0.0  \n",
              "1                  0.00                   0.0  \n",
              "2                  0.00                   0.0  \n",
              "3                  0.00                   0.0  \n",
              "4                  0.25                   0.0  "
            ],
            "text/html": [
              "\n",
              "  <div id=\"df-dec9e577-cce9-4568-a77f-a58ccbd309fa\">\n",
              "    <div class=\"colab-df-container\">\n",
              "      <div>\n",
              "<style scoped>\n",
              "    .dataframe tbody tr th:only-of-type {\n",
              "        vertical-align: middle;\n",
              "    }\n",
              "\n",
              "    .dataframe tbody tr th {\n",
              "        vertical-align: top;\n",
              "    }\n",
              "\n",
              "    .dataframe thead th {\n",
              "        text-align: right;\n",
              "    }\n",
              "</style>\n",
              "<table border=\"1\" class=\"dataframe\">\n",
              "  <thead>\n",
              "    <tr style=\"text-align: right;\">\n",
              "      <th></th>\n",
              "      <th>campaign_var_1</th>\n",
              "      <th>campaign_var_2</th>\n",
              "      <th>products_purchased</th>\n",
              "      <th>user_activity_var_1</th>\n",
              "      <th>user_activity_var_2</th>\n",
              "      <th>user_activity_var_3</th>\n",
              "      <th>user_activity_var_4</th>\n",
              "      <th>user_activity_var_5</th>\n",
              "      <th>user_activity_var_6</th>\n",
              "      <th>user_activity_var_7</th>\n",
              "      <th>user_activity_var_8</th>\n",
              "      <th>user_activity_var_9</th>\n",
              "      <th>user_activity_var_10</th>\n",
              "      <th>user_activity_var_11</th>\n",
              "      <th>user_activity_var_12</th>\n",
              "    </tr>\n",
              "  </thead>\n",
              "  <tbody>\n",
              "    <tr>\n",
              "      <th>0</th>\n",
              "      <td>0.000000</td>\n",
              "      <td>0.071429</td>\n",
              "      <td>0.50</td>\n",
              "      <td>0.000000</td>\n",
              "      <td>0.0</td>\n",
              "      <td>0.0</td>\n",
              "      <td>0.0</td>\n",
              "      <td>0.0</td>\n",
              "      <td>0.0</td>\n",
              "      <td>0.5</td>\n",
              "      <td>0.5</td>\n",
              "      <td>0.0</td>\n",
              "      <td>0.0</td>\n",
              "      <td>0.00</td>\n",
              "      <td>0.0</td>\n",
              "    </tr>\n",
              "    <tr>\n",
              "      <th>1</th>\n",
              "      <td>0.066667</td>\n",
              "      <td>0.000000</td>\n",
              "      <td>0.50</td>\n",
              "      <td>0.333333</td>\n",
              "      <td>0.0</td>\n",
              "      <td>1.0</td>\n",
              "      <td>0.0</td>\n",
              "      <td>0.0</td>\n",
              "      <td>0.0</td>\n",
              "      <td>0.5</td>\n",
              "      <td>0.0</td>\n",
              "      <td>0.0</td>\n",
              "      <td>0.0</td>\n",
              "      <td>0.00</td>\n",
              "      <td>0.0</td>\n",
              "    </tr>\n",
              "    <tr>\n",
              "      <th>2</th>\n",
              "      <td>0.533333</td>\n",
              "      <td>0.142857</td>\n",
              "      <td>0.75</td>\n",
              "      <td>0.333333</td>\n",
              "      <td>0.0</td>\n",
              "      <td>0.0</td>\n",
              "      <td>0.0</td>\n",
              "      <td>0.0</td>\n",
              "      <td>0.0</td>\n",
              "      <td>0.0</td>\n",
              "      <td>0.0</td>\n",
              "      <td>0.0</td>\n",
              "      <td>0.0</td>\n",
              "      <td>0.00</td>\n",
              "      <td>0.0</td>\n",
              "    </tr>\n",
              "    <tr>\n",
              "      <th>3</th>\n",
              "      <td>0.333333</td>\n",
              "      <td>0.428571</td>\n",
              "      <td>0.50</td>\n",
              "      <td>0.000000</td>\n",
              "      <td>0.0</td>\n",
              "      <td>0.0</td>\n",
              "      <td>0.0</td>\n",
              "      <td>0.0</td>\n",
              "      <td>0.0</td>\n",
              "      <td>0.0</td>\n",
              "      <td>0.0</td>\n",
              "      <td>0.0</td>\n",
              "      <td>0.0</td>\n",
              "      <td>0.00</td>\n",
              "      <td>0.0</td>\n",
              "    </tr>\n",
              "    <tr>\n",
              "      <th>4</th>\n",
              "      <td>0.200000</td>\n",
              "      <td>0.357143</td>\n",
              "      <td>0.00</td>\n",
              "      <td>0.000000</td>\n",
              "      <td>0.0</td>\n",
              "      <td>0.0</td>\n",
              "      <td>0.0</td>\n",
              "      <td>0.0</td>\n",
              "      <td>0.0</td>\n",
              "      <td>0.5</td>\n",
              "      <td>0.0</td>\n",
              "      <td>0.0</td>\n",
              "      <td>0.0</td>\n",
              "      <td>0.25</td>\n",
              "      <td>0.0</td>\n",
              "    </tr>\n",
              "  </tbody>\n",
              "</table>\n",
              "</div>\n",
              "      <button class=\"colab-df-convert\" onclick=\"convertToInteractive('df-dec9e577-cce9-4568-a77f-a58ccbd309fa')\"\n",
              "              title=\"Convert this dataframe to an interactive table.\"\n",
              "              style=\"display:none;\">\n",
              "        \n",
              "  <svg xmlns=\"http://www.w3.org/2000/svg\" height=\"24px\"viewBox=\"0 0 24 24\"\n",
              "       width=\"24px\">\n",
              "    <path d=\"M0 0h24v24H0V0z\" fill=\"none\"/>\n",
              "    <path d=\"M18.56 5.44l.94 2.06.94-2.06 2.06-.94-2.06-.94-.94-2.06-.94 2.06-2.06.94zm-11 1L8.5 8.5l.94-2.06 2.06-.94-2.06-.94L8.5 2.5l-.94 2.06-2.06.94zm10 10l.94 2.06.94-2.06 2.06-.94-2.06-.94-.94-2.06-.94 2.06-2.06.94z\"/><path d=\"M17.41 7.96l-1.37-1.37c-.4-.4-.92-.59-1.43-.59-.52 0-1.04.2-1.43.59L10.3 9.45l-7.72 7.72c-.78.78-.78 2.05 0 2.83L4 21.41c.39.39.9.59 1.41.59.51 0 1.02-.2 1.41-.59l7.78-7.78 2.81-2.81c.8-.78.8-2.07 0-2.86zM5.41 20L4 18.59l7.72-7.72 1.47 1.35L5.41 20z\"/>\n",
              "  </svg>\n",
              "      </button>\n",
              "      \n",
              "  <style>\n",
              "    .colab-df-container {\n",
              "      display:flex;\n",
              "      flex-wrap:wrap;\n",
              "      gap: 12px;\n",
              "    }\n",
              "\n",
              "    .colab-df-convert {\n",
              "      background-color: #E8F0FE;\n",
              "      border: none;\n",
              "      border-radius: 50%;\n",
              "      cursor: pointer;\n",
              "      display: none;\n",
              "      fill: #1967D2;\n",
              "      height: 32px;\n",
              "      padding: 0 0 0 0;\n",
              "      width: 32px;\n",
              "    }\n",
              "\n",
              "    .colab-df-convert:hover {\n",
              "      background-color: #E2EBFA;\n",
              "      box-shadow: 0px 1px 2px rgba(60, 64, 67, 0.3), 0px 1px 3px 1px rgba(60, 64, 67, 0.15);\n",
              "      fill: #174EA6;\n",
              "    }\n",
              "\n",
              "    [theme=dark] .colab-df-convert {\n",
              "      background-color: #3B4455;\n",
              "      fill: #D2E3FC;\n",
              "    }\n",
              "\n",
              "    [theme=dark] .colab-df-convert:hover {\n",
              "      background-color: #434B5C;\n",
              "      box-shadow: 0px 1px 3px 1px rgba(0, 0, 0, 0.15);\n",
              "      filter: drop-shadow(0px 1px 2px rgba(0, 0, 0, 0.3));\n",
              "      fill: #FFFFFF;\n",
              "    }\n",
              "  </style>\n",
              "\n",
              "      <script>\n",
              "        const buttonEl =\n",
              "          document.querySelector('#df-dec9e577-cce9-4568-a77f-a58ccbd309fa button.colab-df-convert');\n",
              "        buttonEl.style.display =\n",
              "          google.colab.kernel.accessAllowed ? 'block' : 'none';\n",
              "\n",
              "        async function convertToInteractive(key) {\n",
              "          const element = document.querySelector('#df-dec9e577-cce9-4568-a77f-a58ccbd309fa');\n",
              "          const dataTable =\n",
              "            await google.colab.kernel.invokeFunction('convertToInteractive',\n",
              "                                                     [key], {});\n",
              "          if (!dataTable) return;\n",
              "\n",
              "          const docLinkHtml = 'Like what you see? Visit the ' +\n",
              "            '<a target=\"_blank\" href=https://colab.research.google.com/notebooks/data_table.ipynb>data table notebook</a>'\n",
              "            + ' to learn more about interactive tables.';\n",
              "          element.innerHTML = '';\n",
              "          dataTable['output_type'] = 'display_data';\n",
              "          await google.colab.output.renderOutput(dataTable, element);\n",
              "          const docLink = document.createElement('div');\n",
              "          docLink.innerHTML = docLinkHtml;\n",
              "          element.appendChild(docLink);\n",
              "        }\n",
              "      </script>\n",
              "    </div>\n",
              "  </div>\n",
              "  "
            ]
          },
          "metadata": {},
          "execution_count": 96
        }
      ]
    },
    {
      "cell_type": "code",
      "source": [
        "test_col = test.columns\n",
        "\n",
        "scaler = MinMaxScaler()\n",
        "test_np = scaler.fit_transform(test)\n",
        "test_scaled = pd.DataFrame(test_np, columns=test_col)\n",
        "test_scaled.head()"
      ],
      "metadata": {
        "colab": {
          "base_uri": "https://localhost:8080/",
          "height": 270
        },
        "id": "y_6ThROK3Cys",
        "outputId": "240f5cc6-afbc-46c9-d5cf-dd570ca40278"
      },
      "execution_count": null,
      "outputs": [
        {
          "output_type": "execute_result",
          "data": {
            "text/plain": [
              "   campaign_var_1  campaign_var_2  products_purchased  user_activity_var_1  \\\n",
              "0        0.066667        0.071429                0.00             0.333333   \n",
              "1        0.200000        0.428571                0.75             0.333333   \n",
              "2        0.466667        0.428571                0.00             0.000000   \n",
              "3        0.533333        0.500000                0.50             0.000000   \n",
              "4        0.200000        0.285714                0.50             0.333333   \n",
              "\n",
              "   user_activity_var_2  user_activity_var_3  user_activity_var_4  \\\n",
              "0                  1.0                  0.0                  0.0   \n",
              "1                  0.0                  0.0                  0.0   \n",
              "2                  0.0                  0.0                  0.0   \n",
              "3                  0.0                  0.0                  0.0   \n",
              "4                  0.0                  0.0                  0.0   \n",
              "\n",
              "   user_activity_var_5  user_activity_var_6  user_activity_var_7  \\\n",
              "0                  0.0             0.333333                  0.0   \n",
              "1                  0.0             0.000000                  0.0   \n",
              "2                  0.5             0.333333                  0.0   \n",
              "3                  0.5             0.333333                  0.5   \n",
              "4                  0.0             0.000000                  0.0   \n",
              "\n",
              "   user_activity_var_8  user_activity_var_9  user_activity_var_10  \\\n",
              "0                  0.0                  0.0                   0.0   \n",
              "1                  0.5                  0.0                   0.0   \n",
              "2                  0.0                  0.0                   0.0   \n",
              "3                  0.0                  0.0                   0.0   \n",
              "4                  0.0                  0.0                   0.0   \n",
              "\n",
              "   user_activity_var_11  user_activity_var_12  \n",
              "0              0.333333                   0.0  \n",
              "1              0.000000                   0.0  \n",
              "2              0.000000                   0.0  \n",
              "3              0.666667                   0.0  \n",
              "4              0.000000                   0.0  "
            ],
            "text/html": [
              "\n",
              "  <div id=\"df-5ae4927f-8ee1-43eb-8f4d-96edb9b3066e\">\n",
              "    <div class=\"colab-df-container\">\n",
              "      <div>\n",
              "<style scoped>\n",
              "    .dataframe tbody tr th:only-of-type {\n",
              "        vertical-align: middle;\n",
              "    }\n",
              "\n",
              "    .dataframe tbody tr th {\n",
              "        vertical-align: top;\n",
              "    }\n",
              "\n",
              "    .dataframe thead th {\n",
              "        text-align: right;\n",
              "    }\n",
              "</style>\n",
              "<table border=\"1\" class=\"dataframe\">\n",
              "  <thead>\n",
              "    <tr style=\"text-align: right;\">\n",
              "      <th></th>\n",
              "      <th>campaign_var_1</th>\n",
              "      <th>campaign_var_2</th>\n",
              "      <th>products_purchased</th>\n",
              "      <th>user_activity_var_1</th>\n",
              "      <th>user_activity_var_2</th>\n",
              "      <th>user_activity_var_3</th>\n",
              "      <th>user_activity_var_4</th>\n",
              "      <th>user_activity_var_5</th>\n",
              "      <th>user_activity_var_6</th>\n",
              "      <th>user_activity_var_7</th>\n",
              "      <th>user_activity_var_8</th>\n",
              "      <th>user_activity_var_9</th>\n",
              "      <th>user_activity_var_10</th>\n",
              "      <th>user_activity_var_11</th>\n",
              "      <th>user_activity_var_12</th>\n",
              "    </tr>\n",
              "  </thead>\n",
              "  <tbody>\n",
              "    <tr>\n",
              "      <th>0</th>\n",
              "      <td>0.066667</td>\n",
              "      <td>0.071429</td>\n",
              "      <td>0.00</td>\n",
              "      <td>0.333333</td>\n",
              "      <td>1.0</td>\n",
              "      <td>0.0</td>\n",
              "      <td>0.0</td>\n",
              "      <td>0.0</td>\n",
              "      <td>0.333333</td>\n",
              "      <td>0.0</td>\n",
              "      <td>0.0</td>\n",
              "      <td>0.0</td>\n",
              "      <td>0.0</td>\n",
              "      <td>0.333333</td>\n",
              "      <td>0.0</td>\n",
              "    </tr>\n",
              "    <tr>\n",
              "      <th>1</th>\n",
              "      <td>0.200000</td>\n",
              "      <td>0.428571</td>\n",
              "      <td>0.75</td>\n",
              "      <td>0.333333</td>\n",
              "      <td>0.0</td>\n",
              "      <td>0.0</td>\n",
              "      <td>0.0</td>\n",
              "      <td>0.0</td>\n",
              "      <td>0.000000</td>\n",
              "      <td>0.0</td>\n",
              "      <td>0.5</td>\n",
              "      <td>0.0</td>\n",
              "      <td>0.0</td>\n",
              "      <td>0.000000</td>\n",
              "      <td>0.0</td>\n",
              "    </tr>\n",
              "    <tr>\n",
              "      <th>2</th>\n",
              "      <td>0.466667</td>\n",
              "      <td>0.428571</td>\n",
              "      <td>0.00</td>\n",
              "      <td>0.000000</td>\n",
              "      <td>0.0</td>\n",
              "      <td>0.0</td>\n",
              "      <td>0.0</td>\n",
              "      <td>0.5</td>\n",
              "      <td>0.333333</td>\n",
              "      <td>0.0</td>\n",
              "      <td>0.0</td>\n",
              "      <td>0.0</td>\n",
              "      <td>0.0</td>\n",
              "      <td>0.000000</td>\n",
              "      <td>0.0</td>\n",
              "    </tr>\n",
              "    <tr>\n",
              "      <th>3</th>\n",
              "      <td>0.533333</td>\n",
              "      <td>0.500000</td>\n",
              "      <td>0.50</td>\n",
              "      <td>0.000000</td>\n",
              "      <td>0.0</td>\n",
              "      <td>0.0</td>\n",
              "      <td>0.0</td>\n",
              "      <td>0.5</td>\n",
              "      <td>0.333333</td>\n",
              "      <td>0.5</td>\n",
              "      <td>0.0</td>\n",
              "      <td>0.0</td>\n",
              "      <td>0.0</td>\n",
              "      <td>0.666667</td>\n",
              "      <td>0.0</td>\n",
              "    </tr>\n",
              "    <tr>\n",
              "      <th>4</th>\n",
              "      <td>0.200000</td>\n",
              "      <td>0.285714</td>\n",
              "      <td>0.50</td>\n",
              "      <td>0.333333</td>\n",
              "      <td>0.0</td>\n",
              "      <td>0.0</td>\n",
              "      <td>0.0</td>\n",
              "      <td>0.0</td>\n",
              "      <td>0.000000</td>\n",
              "      <td>0.0</td>\n",
              "      <td>0.0</td>\n",
              "      <td>0.0</td>\n",
              "      <td>0.0</td>\n",
              "      <td>0.000000</td>\n",
              "      <td>0.0</td>\n",
              "    </tr>\n",
              "  </tbody>\n",
              "</table>\n",
              "</div>\n",
              "      <button class=\"colab-df-convert\" onclick=\"convertToInteractive('df-5ae4927f-8ee1-43eb-8f4d-96edb9b3066e')\"\n",
              "              title=\"Convert this dataframe to an interactive table.\"\n",
              "              style=\"display:none;\">\n",
              "        \n",
              "  <svg xmlns=\"http://www.w3.org/2000/svg\" height=\"24px\"viewBox=\"0 0 24 24\"\n",
              "       width=\"24px\">\n",
              "    <path d=\"M0 0h24v24H0V0z\" fill=\"none\"/>\n",
              "    <path d=\"M18.56 5.44l.94 2.06.94-2.06 2.06-.94-2.06-.94-.94-2.06-.94 2.06-2.06.94zm-11 1L8.5 8.5l.94-2.06 2.06-.94-2.06-.94L8.5 2.5l-.94 2.06-2.06.94zm10 10l.94 2.06.94-2.06 2.06-.94-2.06-.94-.94-2.06-.94 2.06-2.06.94z\"/><path d=\"M17.41 7.96l-1.37-1.37c-.4-.4-.92-.59-1.43-.59-.52 0-1.04.2-1.43.59L10.3 9.45l-7.72 7.72c-.78.78-.78 2.05 0 2.83L4 21.41c.39.39.9.59 1.41.59.51 0 1.02-.2 1.41-.59l7.78-7.78 2.81-2.81c.8-.78.8-2.07 0-2.86zM5.41 20L4 18.59l7.72-7.72 1.47 1.35L5.41 20z\"/>\n",
              "  </svg>\n",
              "      </button>\n",
              "      \n",
              "  <style>\n",
              "    .colab-df-container {\n",
              "      display:flex;\n",
              "      flex-wrap:wrap;\n",
              "      gap: 12px;\n",
              "    }\n",
              "\n",
              "    .colab-df-convert {\n",
              "      background-color: #E8F0FE;\n",
              "      border: none;\n",
              "      border-radius: 50%;\n",
              "      cursor: pointer;\n",
              "      display: none;\n",
              "      fill: #1967D2;\n",
              "      height: 32px;\n",
              "      padding: 0 0 0 0;\n",
              "      width: 32px;\n",
              "    }\n",
              "\n",
              "    .colab-df-convert:hover {\n",
              "      background-color: #E2EBFA;\n",
              "      box-shadow: 0px 1px 2px rgba(60, 64, 67, 0.3), 0px 1px 3px 1px rgba(60, 64, 67, 0.15);\n",
              "      fill: #174EA6;\n",
              "    }\n",
              "\n",
              "    [theme=dark] .colab-df-convert {\n",
              "      background-color: #3B4455;\n",
              "      fill: #D2E3FC;\n",
              "    }\n",
              "\n",
              "    [theme=dark] .colab-df-convert:hover {\n",
              "      background-color: #434B5C;\n",
              "      box-shadow: 0px 1px 3px 1px rgba(0, 0, 0, 0.15);\n",
              "      filter: drop-shadow(0px 1px 2px rgba(0, 0, 0, 0.3));\n",
              "      fill: #FFFFFF;\n",
              "    }\n",
              "  </style>\n",
              "\n",
              "      <script>\n",
              "        const buttonEl =\n",
              "          document.querySelector('#df-5ae4927f-8ee1-43eb-8f4d-96edb9b3066e button.colab-df-convert');\n",
              "        buttonEl.style.display =\n",
              "          google.colab.kernel.accessAllowed ? 'block' : 'none';\n",
              "\n",
              "        async function convertToInteractive(key) {\n",
              "          const element = document.querySelector('#df-5ae4927f-8ee1-43eb-8f4d-96edb9b3066e');\n",
              "          const dataTable =\n",
              "            await google.colab.kernel.invokeFunction('convertToInteractive',\n",
              "                                                     [key], {});\n",
              "          if (!dataTable) return;\n",
              "\n",
              "          const docLinkHtml = 'Like what you see? Visit the ' +\n",
              "            '<a target=\"_blank\" href=https://colab.research.google.com/notebooks/data_table.ipynb>data table notebook</a>'\n",
              "            + ' to learn more about interactive tables.';\n",
              "          element.innerHTML = '';\n",
              "          dataTable['output_type'] = 'display_data';\n",
              "          await google.colab.output.renderOutput(dataTable, element);\n",
              "          const docLink = document.createElement('div');\n",
              "          docLink.innerHTML = docLinkHtml;\n",
              "          element.appendChild(docLink);\n",
              "        }\n",
              "      </script>\n",
              "    </div>\n",
              "  </div>\n",
              "  "
            ]
          },
          "metadata": {},
          "execution_count": 101
        }
      ]
    },
    {
      "cell_type": "code",
      "source": [
        ""
      ],
      "metadata": {
        "id": "YC0Cxasn3CkO"
      },
      "execution_count": null,
      "outputs": []
    },
    {
      "cell_type": "code",
      "source": [
        ""
      ],
      "metadata": {
        "id": "il9OmjTP3CPp"
      },
      "execution_count": null,
      "outputs": []
    },
    {
      "cell_type": "markdown",
      "source": [
        "# Model building"
      ],
      "metadata": {
        "id": "8fmB5F-bvlgZ"
      }
    },
    {
      "cell_type": "markdown",
      "source": [
        "## XGBoost"
      ],
      "metadata": {
        "id": "r-iNOxfYvo4T"
      }
    },
    {
      "cell_type": "code",
      "source": [
        "# XGboot calssification Model\n",
        "xgb = XGBClassifier(n_estimators=1000, learning_rate=0.05)"
      ],
      "metadata": {
        "id": "VK5duzOkvn7J"
      },
      "execution_count": null,
      "outputs": []
    },
    {
      "cell_type": "code",
      "source": [
        "xgb.fit(X_scaled, y) #.83806"
      ],
      "metadata": {
        "colab": {
          "base_uri": "https://localhost:8080/"
        },
        "id": "70VcSfJMv0_0",
        "outputId": "750ab966-8454-4e54-bd65-2106bc5ca9f3"
      },
      "execution_count": null,
      "outputs": [
        {
          "output_type": "execute_result",
          "data": {
            "text/plain": [
              "XGBClassifier(learning_rate=0.05, n_estimators=1000)"
            ]
          },
          "metadata": {},
          "execution_count": 84
        }
      ]
    },
    {
      "cell_type": "code",
      "source": [
        "# define evaluation procedure\n",
        "model = XGBClassifier(n_estimators=1000, learning_rate=0.05)\n",
        "cv = RepeatedStratifiedKFold(n_splits=10, n_repeats=3, random_state=1)\n",
        "# evaluate model\n",
        "scores = cross_val_score(model, X_scaled, y, scoring='f1_macro', cv=cv, n_jobs=-1)\n",
        "# summarize performance\n",
        "print('Mean F1-Score: %.5f' % np.mean(scores))"
      ],
      "metadata": {
        "colab": {
          "base_uri": "https://localhost:8080/"
        },
        "id": "RwmW99Kyw5UJ",
        "outputId": "65f0abbf-950e-4123-cdc9-969a8730b0d0"
      },
      "execution_count": null,
      "outputs": [
        {
          "output_type": "stream",
          "name": "stdout",
          "text": [
            "Mean F1-Score: 0.83722\n"
          ]
        }
      ]
    },
    {
      "cell_type": "code",
      "source": [
        "model = XGBClassifier(scale_pos_weight=100)\n",
        "cv = RepeatedStratifiedKFold(n_splits=10, n_repeats=3, random_state=1)\n",
        "# evaluate model\n",
        "scores = cross_val_score(model, X_scaled, y, scoring='f1_macro', cv=cv, n_jobs=-1)\n",
        "# summarize performance\n",
        "print('Mean F1-Score: %.5f' % np.mean(scores))"
      ],
      "metadata": {
        "colab": {
          "base_uri": "https://localhost:8080/"
        },
        "id": "dqEGU1kJ6YrC",
        "outputId": "48715aa7-68ab-4721-bec5-73f65f52cbce"
      },
      "execution_count": null,
      "outputs": [
        {
          "output_type": "stream",
          "name": "stdout",
          "text": [
            "Mean F1-Score: 0.83254\n"
          ]
        }
      ]
    },
    {
      "cell_type": "code",
      "source": [
        ""
      ],
      "metadata": {
        "id": "lywIrSvK6Yf1"
      },
      "execution_count": null,
      "outputs": []
    },
    {
      "cell_type": "code",
      "source": [
        ""
      ],
      "metadata": {
        "id": "Ii5BagAw6YQf"
      },
      "execution_count": null,
      "outputs": []
    },
    {
      "cell_type": "code",
      "source": [
        ""
      ],
      "metadata": {
        "id": "-IdH9fR26YCt"
      },
      "execution_count": null,
      "outputs": []
    },
    {
      "cell_type": "markdown",
      "metadata": {
        "id": "EGqNz7EixEpX"
      },
      "source": [
        "# Step 7: Prediction on Test set and Submission"
      ]
    },
    {
      "cell_type": "code",
      "execution_count": null,
      "metadata": {
        "id": "ApOwWoShx2xn"
      },
      "outputs": [],
      "source": [
        "submission_path = '/content/drive/MyDrive/Job-A-Thon_2022/sample_submission.csv'"
      ]
    },
    {
      "cell_type": "code",
      "execution_count": null,
      "metadata": {
        "id": "HsDgtbGPxKvL"
      },
      "outputs": [],
      "source": [
        "submission = pd.read_csv(submission_path)\n",
        "final_predictions = dt.predict(test_scaled)\n",
        "submission['buy'] = final_predictions\n",
        "#only positive predictions for the target variable\n",
        "# submission['buy'] = submission['buy'].apply(lambda x: 0 if x<0 else x)\n",
        "submission.to_csv('my_submission_dt.csv', index=False)"
      ]
    },
    {
      "cell_type": "code",
      "execution_count": null,
      "metadata": {
        "id": "5SQgtt68yF7H"
      },
      "outputs": [],
      "source": [
        "# solution\n",
        "# learning rate/eta - 0.1\n",
        "# max depth - 10\n",
        "# n_estimators - 5000\n",
        "# my_submission_xgb_full_n5000_lr1_max10.csv"
      ]
    },
    {
      "cell_type": "code",
      "execution_count": null,
      "metadata": {
        "id": "JkAftZ_A7Es8"
      },
      "outputs": [],
      "source": [
        ""
      ]
    },
    {
      "cell_type": "markdown",
      "source": [
        "# Rough"
      ],
      "metadata": {
        "id": "6BFhE3UVvUQn"
      }
    },
    {
      "cell_type": "code",
      "source": [
        "temp_X = train.drop(['products_purchased',\n",
        "       'user_activity_var_1', 'user_activity_var_2', 'user_activity_var_3',\n",
        "       'user_activity_var_4', 'user_activity_var_5', 'user_activity_var_6',\n",
        "       'user_activity_var_7', 'user_activity_var_8', 'user_activity_var_9',\n",
        "       'user_activity_var_10', 'user_activity_var_11', 'user_activity_var_12', \n",
        "       'buy'], axis=1)"
      ],
      "metadata": {
        "id": "_P9ACgA8tSLW"
      },
      "execution_count": null,
      "outputs": []
    },
    {
      "cell_type": "code",
      "source": [
        "temp_test = test.drop(['products_purchased',\n",
        "       'user_activity_var_1', 'user_activity_var_2', 'user_activity_var_3',\n",
        "       'user_activity_var_4', 'user_activity_var_5', 'user_activity_var_6',\n",
        "       'user_activity_var_7', 'user_activity_var_8', 'user_activity_var_9',\n",
        "       'user_activity_var_10', 'user_activity_var_11', 'user_activity_var_12'], axis=1)"
      ],
      "metadata": {
        "id": "CtE2xdelwFHr"
      },
      "execution_count": null,
      "outputs": []
    },
    {
      "cell_type": "code",
      "source": [
        "temp_y = train['buy']"
      ],
      "metadata": {
        "id": "Rzh8Sqpct2Z_"
      },
      "execution_count": null,
      "outputs": []
    },
    {
      "cell_type": "code",
      "source": [
        "# min max normalization\n",
        "temp_X_col = temp_X.columns\n",
        "scaler = MinMaxScaler()\n",
        "temp_X_np = scaler.fit_transform(temp_X)\n",
        "temp_X_scaled = pd.DataFrame(temp_X_np, columns=temp_X_col)"
      ],
      "metadata": {
        "id": "9mFiD2tXt_t5"
      },
      "execution_count": null,
      "outputs": []
    },
    {
      "cell_type": "code",
      "source": [
        "temp_X_scaled.head()"
      ],
      "metadata": {
        "colab": {
          "base_uri": "https://localhost:8080/",
          "height": 206
        },
        "id": "a2SS7BhSuvQR",
        "outputId": "18407c13-7b16-48e5-9c2f-74ac7c8ff8ec"
      },
      "execution_count": null,
      "outputs": [
        {
          "output_type": "execute_result",
          "data": {
            "text/plain": [
              "   campaign_var_1  campaign_var_2\n",
              "0        0.000000        0.071429\n",
              "1        0.066667        0.000000\n",
              "2        0.533333        0.142857\n",
              "3        0.333333        0.428571\n",
              "4        0.200000        0.357143"
            ],
            "text/html": [
              "\n",
              "  <div id=\"df-d1037289-6c60-4908-a637-4282f336b615\">\n",
              "    <div class=\"colab-df-container\">\n",
              "      <div>\n",
              "<style scoped>\n",
              "    .dataframe tbody tr th:only-of-type {\n",
              "        vertical-align: middle;\n",
              "    }\n",
              "\n",
              "    .dataframe tbody tr th {\n",
              "        vertical-align: top;\n",
              "    }\n",
              "\n",
              "    .dataframe thead th {\n",
              "        text-align: right;\n",
              "    }\n",
              "</style>\n",
              "<table border=\"1\" class=\"dataframe\">\n",
              "  <thead>\n",
              "    <tr style=\"text-align: right;\">\n",
              "      <th></th>\n",
              "      <th>campaign_var_1</th>\n",
              "      <th>campaign_var_2</th>\n",
              "    </tr>\n",
              "  </thead>\n",
              "  <tbody>\n",
              "    <tr>\n",
              "      <th>0</th>\n",
              "      <td>0.000000</td>\n",
              "      <td>0.071429</td>\n",
              "    </tr>\n",
              "    <tr>\n",
              "      <th>1</th>\n",
              "      <td>0.066667</td>\n",
              "      <td>0.000000</td>\n",
              "    </tr>\n",
              "    <tr>\n",
              "      <th>2</th>\n",
              "      <td>0.533333</td>\n",
              "      <td>0.142857</td>\n",
              "    </tr>\n",
              "    <tr>\n",
              "      <th>3</th>\n",
              "      <td>0.333333</td>\n",
              "      <td>0.428571</td>\n",
              "    </tr>\n",
              "    <tr>\n",
              "      <th>4</th>\n",
              "      <td>0.200000</td>\n",
              "      <td>0.357143</td>\n",
              "    </tr>\n",
              "  </tbody>\n",
              "</table>\n",
              "</div>\n",
              "      <button class=\"colab-df-convert\" onclick=\"convertToInteractive('df-d1037289-6c60-4908-a637-4282f336b615')\"\n",
              "              title=\"Convert this dataframe to an interactive table.\"\n",
              "              style=\"display:none;\">\n",
              "        \n",
              "  <svg xmlns=\"http://www.w3.org/2000/svg\" height=\"24px\"viewBox=\"0 0 24 24\"\n",
              "       width=\"24px\">\n",
              "    <path d=\"M0 0h24v24H0V0z\" fill=\"none\"/>\n",
              "    <path d=\"M18.56 5.44l.94 2.06.94-2.06 2.06-.94-2.06-.94-.94-2.06-.94 2.06-2.06.94zm-11 1L8.5 8.5l.94-2.06 2.06-.94-2.06-.94L8.5 2.5l-.94 2.06-2.06.94zm10 10l.94 2.06.94-2.06 2.06-.94-2.06-.94-.94-2.06-.94 2.06-2.06.94z\"/><path d=\"M17.41 7.96l-1.37-1.37c-.4-.4-.92-.59-1.43-.59-.52 0-1.04.2-1.43.59L10.3 9.45l-7.72 7.72c-.78.78-.78 2.05 0 2.83L4 21.41c.39.39.9.59 1.41.59.51 0 1.02-.2 1.41-.59l7.78-7.78 2.81-2.81c.8-.78.8-2.07 0-2.86zM5.41 20L4 18.59l7.72-7.72 1.47 1.35L5.41 20z\"/>\n",
              "  </svg>\n",
              "      </button>\n",
              "      \n",
              "  <style>\n",
              "    .colab-df-container {\n",
              "      display:flex;\n",
              "      flex-wrap:wrap;\n",
              "      gap: 12px;\n",
              "    }\n",
              "\n",
              "    .colab-df-convert {\n",
              "      background-color: #E8F0FE;\n",
              "      border: none;\n",
              "      border-radius: 50%;\n",
              "      cursor: pointer;\n",
              "      display: none;\n",
              "      fill: #1967D2;\n",
              "      height: 32px;\n",
              "      padding: 0 0 0 0;\n",
              "      width: 32px;\n",
              "    }\n",
              "\n",
              "    .colab-df-convert:hover {\n",
              "      background-color: #E2EBFA;\n",
              "      box-shadow: 0px 1px 2px rgba(60, 64, 67, 0.3), 0px 1px 3px 1px rgba(60, 64, 67, 0.15);\n",
              "      fill: #174EA6;\n",
              "    }\n",
              "\n",
              "    [theme=dark] .colab-df-convert {\n",
              "      background-color: #3B4455;\n",
              "      fill: #D2E3FC;\n",
              "    }\n",
              "\n",
              "    [theme=dark] .colab-df-convert:hover {\n",
              "      background-color: #434B5C;\n",
              "      box-shadow: 0px 1px 3px 1px rgba(0, 0, 0, 0.15);\n",
              "      filter: drop-shadow(0px 1px 2px rgba(0, 0, 0, 0.3));\n",
              "      fill: #FFFFFF;\n",
              "    }\n",
              "  </style>\n",
              "\n",
              "      <script>\n",
              "        const buttonEl =\n",
              "          document.querySelector('#df-d1037289-6c60-4908-a637-4282f336b615 button.colab-df-convert');\n",
              "        buttonEl.style.display =\n",
              "          google.colab.kernel.accessAllowed ? 'block' : 'none';\n",
              "\n",
              "        async function convertToInteractive(key) {\n",
              "          const element = document.querySelector('#df-d1037289-6c60-4908-a637-4282f336b615');\n",
              "          const dataTable =\n",
              "            await google.colab.kernel.invokeFunction('convertToInteractive',\n",
              "                                                     [key], {});\n",
              "          if (!dataTable) return;\n",
              "\n",
              "          const docLinkHtml = 'Like what you see? Visit the ' +\n",
              "            '<a target=\"_blank\" href=https://colab.research.google.com/notebooks/data_table.ipynb>data table notebook</a>'\n",
              "            + ' to learn more about interactive tables.';\n",
              "          element.innerHTML = '';\n",
              "          dataTable['output_type'] = 'display_data';\n",
              "          await google.colab.output.renderOutput(dataTable, element);\n",
              "          const docLink = document.createElement('div');\n",
              "          docLink.innerHTML = docLinkHtml;\n",
              "          element.appendChild(docLink);\n",
              "        }\n",
              "      </script>\n",
              "    </div>\n",
              "  </div>\n",
              "  "
            ]
          },
          "metadata": {},
          "execution_count": 80
        }
      ]
    },
    {
      "cell_type": "code",
      "source": [
        ""
      ],
      "metadata": {
        "id": "LJYPAMjMvfRs"
      },
      "execution_count": null,
      "outputs": []
    }
  ]
}